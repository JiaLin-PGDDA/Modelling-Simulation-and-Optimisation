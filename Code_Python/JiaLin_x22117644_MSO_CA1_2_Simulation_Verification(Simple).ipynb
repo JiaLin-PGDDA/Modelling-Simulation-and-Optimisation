{
 "cells": [
  {
   "cell_type": "markdown",
   "id": "f42bc8d5",
   "metadata": {
    "toc": true
   },
   "source": [
    "<h1>Table of Contents<span class=\"tocSkip\"></span></h1>\n",
    "<div class=\"toc\"><ul class=\"toc-item\"><li><span><a href=\"#Prelude\" data-toc-modified-id=\"Prelude-1\"><span class=\"toc-item-num\">1&nbsp;&nbsp;</span>Prelude</a></span></li><li><span><a href=\"#Utilities-(as-before)\" data-toc-modified-id=\"Utilities-(as-before)-2\"><span class=\"toc-item-num\">2&nbsp;&nbsp;</span>Utilities (as before)</a></span></li><li><span><a href=\"#Finding-Shortest-Path-(as-before)\" data-toc-modified-id=\"Finding-Shortest-Path-(as-before)-3\"><span class=\"toc-item-num\">3&nbsp;&nbsp;</span>Finding Shortest Path (as before)</a></span></li><li><span><a href=\"#Finding-Shortest-Delivery-Route-(as-before)\" data-toc-modified-id=\"Finding-Shortest-Delivery-Route-(as-before)-4\"><span class=\"toc-item-num\">4&nbsp;&nbsp;</span>Finding Shortest Delivery Route (as before)</a></span></li><li><span><a href=\"#Time-Handling\" data-toc-modified-id=\"Time-Handling-5\"><span class=\"toc-item-num\">5&nbsp;&nbsp;</span>Time Handling</a></span></li><li><span><a href=\"#Class-Recorder\" data-toc-modified-id=\"Class-Recorder-6\"><span class=\"toc-item-num\">6&nbsp;&nbsp;</span>Class Recorder</a></span></li><li><span><a href=\"#Class-Parcel\" data-toc-modified-id=\"Class-Parcel-7\"><span class=\"toc-item-num\">7&nbsp;&nbsp;</span>Class Parcel</a></span></li><li><span><a href=\"#Class-Customer\" data-toc-modified-id=\"Class-Customer-8\"><span class=\"toc-item-num\">8&nbsp;&nbsp;</span>Class Customer</a></span></li><li><span><a href=\"#Class-Driver\" data-toc-modified-id=\"Class-Driver-9\"><span class=\"toc-item-num\">9&nbsp;&nbsp;</span>Class Driver</a></span></li><li><span><a href=\"#Class-Delivery-Centre\" data-toc-modified-id=\"Class-Delivery-Centre-10\"><span class=\"toc-item-num\">10&nbsp;&nbsp;</span>Class Delivery Centre</a></span></li><li><span><a href=\"#Simulation\" data-toc-modified-id=\"Simulation-11\"><span class=\"toc-item-num\">11&nbsp;&nbsp;</span>Simulation</a></span><ul class=\"toc-item\"><li><span><a href=\"#Parameters-from-Specification\" data-toc-modified-id=\"Parameters-from-Specification-11.1\"><span class=\"toc-item-num\">11.1&nbsp;&nbsp;</span>Parameters from Specification</a></span></li><li><span><a href=\"#Generate-Input-Data\" data-toc-modified-id=\"Generate-Input-Data-11.2\"><span class=\"toc-item-num\">11.2&nbsp;&nbsp;</span>Generate Input Data</a></span></li><li><span><a href=\"#Simulation-Routine\" data-toc-modified-id=\"Simulation-Routine-11.3\"><span class=\"toc-item-num\">11.3&nbsp;&nbsp;</span>Simulation Routine</a></span></li><li><span><a href=\"#Model-Verification\" data-toc-modified-id=\"Model-Verification-11.4\"><span class=\"toc-item-num\">11.4&nbsp;&nbsp;</span>Model Verification</a></span></li><li><span><a href=\"#Adding-Statistics-and-Visualisation\" data-toc-modified-id=\"Adding-Statistics-and-Visualisation-11.5\"><span class=\"toc-item-num\">11.5&nbsp;&nbsp;</span>Adding Statistics and Visualisation</a></span></li></ul></li></ul></div>"
   ]
  },
  {
   "cell_type": "markdown",
   "id": "ec57130e",
   "metadata": {},
   "source": [
    "# Prelude"
   ]
  },
  {
   "cell_type": "code",
   "execution_count": 1,
   "id": "7bfcffb3",
   "metadata": {
    "ExecuteTime": {
     "end_time": "2023-04-23T10:44:19.112287Z",
     "start_time": "2023-04-23T10:44:18.650370Z"
    }
   },
   "outputs": [],
   "source": [
    "import matplotlib as mpl\n",
    "import matplotlib.pyplot as plt\n",
    "import pulp\n",
    "import math\n",
    "import random\n",
    "import pandas as pd\n",
    "import numpy as np\n",
    "import simpy"
   ]
  },
  {
   "cell_type": "markdown",
   "id": "5b54bfd8",
   "metadata": {
    "heading_collapsed": true
   },
   "source": [
    "# Utilities (as before)"
   ]
  },
  {
   "cell_type": "code",
   "execution_count": 2,
   "id": "9887f1a8",
   "metadata": {
    "ExecuteTime": {
     "end_time": "2023-04-23T10:44:19.115618Z",
     "start_time": "2023-04-23T10:44:19.113878Z"
    },
    "hidden": true
   },
   "outputs": [],
   "source": [
    "resolution = 10000  # city of about 10km diameter"
   ]
  },
  {
   "cell_type": "code",
   "execution_count": 3,
   "id": "01ba605f",
   "metadata": {
    "ExecuteTime": {
     "end_time": "2023-04-23T10:44:19.123954Z",
     "start_time": "2023-04-23T10:44:19.119715Z"
    },
    "hidden": true
   },
   "outputs": [],
   "source": [
    "def plotMap(G, T=[], P=[], w=None,\n",
    "            style='r-o', lw=1, ms=3, \n",
    "            styleT='go', msT=5,\n",
    "            styleP='b-o', lwP=3, msP=1,\n",
    "            stylePT='go', msPT=7,\n",
    "            styleW='bo', msW=7,\n",
    "            text=None, grid=False):\n",
    "    fig = plt.gcf()\n",
    "    fig.set_size_inches(6, 6)\n",
    "    plt.xlim(0,resolution)\n",
    "    plt.ylim(0,resolution)\n",
    "    if not grid:\n",
    "        plt.axis('off')\n",
    "    V, E = G\n",
    "    for e in E:\n",
    "        p1, p2 = e\n",
    "        plt.plot( [ p1[0], p2[0] ],\n",
    "                  [ p1[1], p2[1] ], \n",
    "                  style, lw=lw, ms=ms)\n",
    "    for t in T:\n",
    "        plt.plot( [ t[0] ], [ t[1] ], \n",
    "                  styleT, ms=msT)\n",
    "    plt.plot( [ p[0] for p in P ],\n",
    "              [ p[1] for p in P ], \n",
    "              styleP, lw=lwP, ms=msP)\n",
    "    for p in P:\n",
    "        if p in T:\n",
    "            plt.plot( [ p[0] ], [ p[1] ], \n",
    "                      stylePT, ms=msPT)\n",
    "    if w is not None:\n",
    "        plt.plot( [ w[0] ], [ w[1] ], \n",
    "                      styleW, ms=msW)\n",
    "    if text is not None:\n",
    "        plt.text(0.8*resolution, 0, text)\n",
    "    if grid:\n",
    "        plt.grid()\n",
    "    plt.show()"
   ]
  },
  {
   "cell_type": "markdown",
   "id": "6a210754",
   "metadata": {
    "heading_collapsed": true
   },
   "source": [
    "# Finding Shortest Path (as before)"
   ]
  },
  {
   "cell_type": "code",
   "execution_count": 4,
   "id": "6632106e",
   "metadata": {
    "ExecuteTime": {
     "end_time": "2023-04-23T10:44:19.126785Z",
     "start_time": "2023-04-23T10:44:19.124917Z"
    },
    "hidden": true
   },
   "outputs": [],
   "source": [
    "def dist(p1, p2):\n",
    "    (x1, y1) = p1\n",
    "    (x2, y2) = p2\n",
    "    return int(math.sqrt((x1-x2)**2+(y1-y2)**2))"
   ]
  },
  {
   "cell_type": "code",
   "execution_count": 5,
   "id": "8344c604",
   "metadata": {
    "ExecuteTime": {
     "end_time": "2023-04-23T10:44:19.129464Z",
     "start_time": "2023-04-23T10:44:19.127769Z"
    },
    "hidden": true
   },
   "outputs": [],
   "source": [
    "def pathLength(P):\n",
    "    return 0 if len(P)<=1 else \\\n",
    "            dist(P[0], P[1])+pathLength(P[1:])"
   ]
  },
  {
   "cell_type": "code",
   "execution_count": 6,
   "id": "8d5f754b",
   "metadata": {
    "ExecuteTime": {
     "end_time": "2023-04-23T10:44:19.133952Z",
     "start_time": "2023-04-23T10:44:19.130337Z"
    },
    "hidden": true
   },
   "outputs": [],
   "source": [
    "def shortestPath(M, A, B):\n",
    "\n",
    "    def h(p): \n",
    "        return pathLength(p)+dist(p[-1],B)\n",
    "    \n",
    "    # candidates C are pairs of the path so far and \n",
    "    # the heuristic function of that path, \n",
    "    # sorted by the heuristic function, as maintained by\n",
    "    # insert function\n",
    "    def insert(C, p):\n",
    "        hp = h(p)\n",
    "        c = (p, hp)\n",
    "        for i in range(len(C)):\n",
    "            if C[i][1]>hp:\n",
    "                return C[:i]+[c]+C[i:]\n",
    "        return C+[c]   \n",
    "        \n",
    "    V, E = M\n",
    "    assert(A in V and B in V)    \n",
    "    C = insert([], [A])\n",
    "\n",
    "    while len(C)>0:\n",
    "        # take the first candidate out of the list of candidates\n",
    "        path, _ = C[0]\n",
    "        C = C[1:]\n",
    "        if path[-1]==B:\n",
    "            return path\n",
    "        else:\n",
    "            for (x, y) in E:\n",
    "                if path[-1]==x and y not in path:\n",
    "                    C = insert(C, path+[y])\n",
    "                elif path[-1]==y and x not in path:\n",
    "                    C = insert(C, path+[x])\n",
    "    return None"
   ]
  },
  {
   "cell_type": "markdown",
   "id": "a7ea55bb",
   "metadata": {
    "heading_collapsed": true
   },
   "source": [
    "# Finding Shortest Delivery Route (as before)"
   ]
  },
  {
   "cell_type": "code",
   "execution_count": 7,
   "id": "02abdd22",
   "metadata": {
    "ExecuteTime": {
     "end_time": "2023-04-23T10:44:19.140009Z",
     "start_time": "2023-04-23T10:44:19.134883Z"
    },
    "hidden": true
   },
   "outputs": [],
   "source": [
    "def createTables(M, T):\n",
    "\n",
    "    def reverse(P):\n",
    "        return [ P[-i] for i in range(1,len(P)+1) ]\n",
    "    \n",
    "    def index(x, L):\n",
    "        for i in range(len(L)):\n",
    "            if x==L[i]: \n",
    "                return i\n",
    "        return None\n",
    "\n",
    "    n = len(T)\n",
    "    d = [ [ math.inf for t in T ] for t in T ]\n",
    "    p = [ [ None for t in T ] for t in T ]\n",
    "    for i in range(n):\n",
    "        d[i][i] = 0\n",
    "        p[i][i] = [ T[i] ]\n",
    "    for i in range(n):\n",
    "        for j in range(n):\n",
    "            if p[i][j] is None:\n",
    "                s = shortestPath(M, T[i], T[j])\n",
    "                d[i][j] = d[j][i] = pathLength(s)\n",
    "                p[i][j] = s\n",
    "                p[j][i] = reverse(s)\n",
    "                for m in range(len(s)-1):\n",
    "                    smi = index(s[m], T)\n",
    "                    if smi is None:\n",
    "                        continue\n",
    "                    for l in range(m+1, len(s)):\n",
    "                        sli = index(s[l], T)\n",
    "                        if sli is None:\n",
    "                            continue  \n",
    "                        sub = s[m:l+1]\n",
    "                        if p[smi][sli] is None:\n",
    "                            p[smi][sli] = sub\n",
    "                            p[sli][smi] = reverse(sub)\n",
    "                            d[smi][sli] = d[sli][smi] = pathLength(sub)\n",
    "    return d,p               "
   ]
  },
  {
   "cell_type": "code",
   "execution_count": 8,
   "id": "aa0e7767",
   "metadata": {
    "ExecuteTime": {
     "end_time": "2023-04-23T10:44:19.151645Z",
     "start_time": "2023-04-23T10:44:19.142925Z"
    },
    "hidden": true
   },
   "outputs": [],
   "source": [
    "def roundtrips(x, n):\n",
    "    \n",
    "    def isElem(x, l):\n",
    "        for i in range(len(l)):\n",
    "            if l[i]==x:\n",
    "                return True\n",
    "        return False\n",
    "\n",
    "    def startpoint(trips):\n",
    "        for i in range(n):\n",
    "            for t in trips:\n",
    "                if isElem(i, t):\n",
    "                    break\n",
    "            else:\n",
    "                return i\n",
    "    \n",
    "    def totalLength(trips):\n",
    "        s=0\n",
    "        for i in range(0, len(trips)):\n",
    "            s += len(trips[i])-1\n",
    "        return s\n",
    "\n",
    "    trips = []\n",
    "    while totalLength(trips)<n:\n",
    "        start = startpoint(trips)\n",
    "        trip = [ start ]\n",
    "        i = start\n",
    "        while len(trip) < n-totalLength(trips):\n",
    "            for j in range(0, n):\n",
    "                if pulp.value(x[i][j])==1:\n",
    "                    trip.append(j)\n",
    "                    i=j\n",
    "                    break        \n",
    "            if pulp.value(x[trip[-1]][start])==1:\n",
    "                trip.append(start)\n",
    "                break\n",
    "        trips.append(trip)\n",
    "    return sorted(trips, key=lambda t: len(t), reverse=True)\n",
    "\n",
    "def createLoop(M, T):\n",
    "    D, P = createTables(M, T)\n",
    "    # Matrix of the shortest path between every two points.\n",
    "    n = len(T)\n",
    "    # create variables\n",
    "    x = pulp.LpVariable.dicts(\"x\", ( range(n), range(n) ),\n",
    "                            lowBound=0, upBound=1, cat=pulp.LpInteger)\n",
    "    # create problem\n",
    "    prob = pulp.LpProblem(\"Loop\",pulp.LpMinimize)\n",
    "    # add objective function\n",
    "    prob += pulp.lpSum([ D[i][j]*x[i][j] \n",
    "                             for i in range(n) for j in range(n) ])\n",
    "    # add constraints\n",
    "    constraints=0\n",
    "    for j in range(n):# The location of the customer is entered only once.\n",
    "        prob += pulp.lpSum([ x[i][j] for i in range(n) if i!=j ]) ==1\n",
    "    constraints += n\n",
    "    for i in range(n):# The location of the customer is left only once.\n",
    "        prob += pulp.lpSum([ x[i][j] for j in range(n) if i!=j ]) ==1\n",
    "    constraints += n\n",
    "    for i in range(n):# prevent subtour\n",
    "        for j in range(n):\n",
    "            if i!=j:\n",
    "                prob += x[i][j]+x[j][i] <= 1\n",
    "                constraints += 1\n",
    "    # initialise solver\n",
    "    solvers = pulp.listSolvers(onlyAvailable=True)\n",
    "    solver = pulp.getSolver(solvers[0], msg=0)\n",
    "    # print(f\"{constraints:d} Constraints\")\n",
    "    prob.solve(solver)\n",
    "    trips = roundtrips(x, n)\n",
    "    while len(trips)>1:\n",
    "        for t in trips:\n",
    "            prob += pulp.lpSum([ x[t[i]][t[i+1]] + x[t[i+1]][t[i]]\n",
    "                            for i in range(0,len(t)-1) ]) <= len(t)-2\n",
    "            constraints += 1\n",
    "        # print(f\"{constraints:d} Constraints\")\n",
    "        prob.solve(solver)\n",
    "        trips = roundtrips(x, n)\n",
    "    trip = trips[0]\n",
    "    # print(trip)\n",
    "    loop = []\n",
    "    for k in range(len(trip)-1):\n",
    "        sub = P[trip[k]][trip[k+1]]\n",
    "        loop += sub if len(loop)==0 else sub[1:]\n",
    "    return loop"
   ]
  },
  {
   "cell_type": "markdown",
   "id": "3354fc84",
   "metadata": {},
   "source": [
    "# Time Handling"
   ]
  },
  {
   "cell_type": "markdown",
   "id": "25d614eb",
   "metadata": {},
   "source": [
    "**Convention:** In this project we measure time in seconds. The simulation will start at 0:00. Time related methods will be added as they are needed."
   ]
  },
  {
   "cell_type": "markdown",
   "id": "247271bc",
   "metadata": {},
   "source": [
    "`timestamp(t)` generates a timestamp string in the form `[dd] hh:mm:ss.d`"
   ]
  },
  {
   "cell_type": "code",
   "execution_count": 9,
   "id": "be0dcd1e",
   "metadata": {
    "ExecuteTime": {
     "end_time": "2023-04-23T10:44:19.155155Z",
     "start_time": "2023-04-23T10:44:19.152533Z"
    }
   },
   "outputs": [],
   "source": [
    "    def timestamp(t):\n",
    "        day = int(t)//(24*3600)\n",
    "        t = t - day*24*3600\n",
    "        hour = int(t)//3600\n",
    "        t = t - hour*3600\n",
    "        mins = int(t)//60\n",
    "        t = t - mins*60\n",
    "        secs = int(t)\n",
    "        t = int(round((t - secs)*10))\n",
    "        return f\"[{day:2d}] {hour:02d}:{mins:02d}:{secs:02d}.{t:1d}\""
   ]
  },
  {
   "cell_type": "code",
   "execution_count": 10,
   "id": "a4bc1fce",
   "metadata": {
    "ExecuteTime": {
     "end_time": "2023-04-23T10:44:19.160305Z",
     "start_time": "2023-04-23T10:44:19.156047Z"
    }
   },
   "outputs": [
    {
     "data": {
      "text/plain": [
       "'[ 3] 17:10:15.1'"
      ]
     },
     "execution_count": 10,
     "metadata": {},
     "output_type": "execute_result"
    }
   ],
   "source": [
    "timestamp(24*3600*3+17*3600+615.1)"
   ]
  },
  {
   "cell_type": "code",
   "execution_count": 11,
   "id": "7915aa78",
   "metadata": {
    "ExecuteTime": {
     "end_time": "2023-04-23T10:44:19.163999Z",
     "start_time": "2023-04-23T10:44:19.161182Z"
    }
   },
   "outputs": [],
   "source": [
    "def nextHour(env, hour):\n",
    "    beginningOfDay = int(env.now//(24*3600))*24*3600\n",
    "    timeOfDay = env.now-beginningOfDay\n",
    "    if hour*3600 > timeOfDay:\n",
    "        return hour*3600 - timeOfDay\n",
    "    else:\n",
    "        return hour*3600 + 24*3600 - timeOfDay"
   ]
  },
  {
   "cell_type": "code",
   "execution_count": 12,
   "id": "5866a8db",
   "metadata": {
    "ExecuteTime": {
     "end_time": "2023-04-23T10:44:19.166893Z",
     "start_time": "2023-04-23T10:44:19.164951Z"
    }
   },
   "outputs": [],
   "source": [
    "def day(now):\n",
    "    return int(now//(24*3600))"
   ]
  },
  {
   "cell_type": "markdown",
   "id": "c6ecff7c",
   "metadata": {},
   "source": [
    "# Class Recorder"
   ]
  },
  {
   "cell_type": "markdown",
   "id": "ce47fa90",
   "metadata": {},
   "source": [
    "We willl use a class Recorder as a reference point for capturing data during the simulation. There will be only one recorder. It will be created at the beginning of every simulation run. Every entity will carry a reference to the Recorder. "
   ]
  },
  {
   "cell_type": "code",
   "execution_count": 13,
   "id": "1313c612",
   "metadata": {
    "ExecuteTime": {
     "end_time": "2023-04-23T10:44:19.173995Z",
     "start_time": "2023-04-23T10:44:19.167843Z"
    }
   },
   "outputs": [],
   "source": [
    "class Recorder:\n",
    "    \n",
    "    def __init__(self, env, M, W, C, days, \n",
    "                 log=False, plot=False):\n",
    "        self.env = env\n",
    "        self.M = M\n",
    "        self.W = W\n",
    "        self.C = C\n",
    "        self.days = days\n",
    "        self.log = log\n",
    "        self.plot = plot\n",
    "        Customer.REGISTER = []\n",
    "        Parcel.REGISTER = []\n",
    "        \n",
    "        # create a data frame for time records per working day\n",
    "        self.daily = pd.DataFrame()\n",
    "        self.daily['driver_starts'] = [None]*days # The time of the driver starts to work per day\n",
    "        self.daily['driver_ends'] = [None]*days # The time of the driver ends work per day\n",
    "        self.daily['distance'] = [None]*days # The route distance per day\n",
    "        self.daily['leftover'] = [None]*days # The number of leftover parcels per day\n",
    "        \n",
    "        \n",
    "        # create a data frame for time records per parcel\n",
    "        self.perParcel = pd.DataFrame()\n",
    "        self.perParcel['arrived'] = [None]*len(Parcel.REGISTER) # The time of the parcel arrived at DC\n",
    "        self.perParcel['accepted'] = [None]*len(Parcel.REGISTER) # The time of the parcel be accepted by the Customer\n",
    "        \n",
    "    def trace(self, event):\n",
    "        if self.log:\n",
    "            print(timestamp(self.env.now), event)\n",
    "            \n",
    "    def recordTourLength(self, length):\n",
    "        self.daily.at[day(self.env.now), 'distance'] = length/1000\n",
    "        \n",
    "    def recordLeftover(self, n):\n",
    "        self.daily.at[day(self.env.now), 'leftover'] = int(n)\n",
    "        \n",
    "    def recordDriverBeginsWork(self):\n",
    "        #self.trace(\"Driver arrives for work\")\n",
    "        self.daily.at[day(self.env.now), 'driver_starts'] = int(round(self.env.now))\n",
    "        \n",
    "    def recordDriverEndsWork(self):\n",
    "        #self.trace(\"Driver goes home\")\n",
    "        self.daily.at[day(self.env.now), 'driver_ends'] = int(round(self.env.now))\n",
    "    \n",
    "    def recordParcelArrived(self,index):\n",
    "        #self.trace(\"Parcel has been arrived:\")\n",
    "        self.perParcel.at[index, 'arrived'] = day(self.env.now)\n",
    "        \n",
    "    def recordCustomerAccepted(self,index):\n",
    "        #self.trace(\"Parcel has been accepted by the customer\")\n",
    "        self.perParcel.at[index, 'accepted'] = day(self.env.now)\n",
    "        \n",
    "    def finish(self):\n",
    "        self.daily['time'] = (self.daily['driver_ends']-self.daily['driver_starts'])/60\n",
    "        self.perParcel['delay'] = self.perParcel['accepted']-self.perParcel['arrived']"
   ]
  },
  {
   "cell_type": "markdown",
   "id": "4a66f185",
   "metadata": {},
   "source": [
    "# Class Parcel"
   ]
  },
  {
   "cell_type": "markdown",
   "id": "88ec993d",
   "metadata": {},
   "source": [
    "<img src='EventGraph Parcel.png' width=500/>"
   ]
  },
  {
   "cell_type": "markdown",
   "id": "feed7758",
   "metadata": {},
   "source": [
    "Parcels follow through a sequence of states:\n",
    "- processing\n",
    "- in transit (from manufacture to distribution centre)\n",
    "- arrived in distribution centre\n",
    "- ready for delivery \n",
    "- out for delivery\n",
    "- customer not present\n",
    "- returned to distribution centre\n",
    "- delivered"
   ]
  },
  {
   "cell_type": "code",
   "execution_count": 14,
   "id": "de2cc49a",
   "metadata": {
    "ExecuteTime": {
     "end_time": "2023-04-23T10:44:19.179350Z",
     "start_time": "2023-04-23T10:44:19.174838Z"
    }
   },
   "outputs": [],
   "source": [
    "class Parcel:\n",
    "    \n",
    "    REGISTER = []\n",
    "    \n",
    "    def __init__(self, rec, i, cust):\n",
    "        self.rec = rec\n",
    "        self.i = i  # row index in data frames of input data\n",
    "        self.dest = cust.location\n",
    "        self.status = [ 'processing' ] # status record and\n",
    "        self.timing = [ self.rec.env.now ]      # timing\n",
    "        assert(len(Parcel.REGISTER)==i)\n",
    "        Parcel.REGISTER += [ self ] \n",
    "    \n",
    "    # factory method ensures that there is only\n",
    "    # one Parcel per location\n",
    "    def getParcel(rec, i, location):\n",
    "        for p in Parcel.REGISTER:\n",
    "            if p.i == i:\n",
    "                return p\n",
    "        return Parcel(rec, i, location)\n",
    "\n",
    "    \n",
    "    def __str__(self):\n",
    "        return f\"Parcel: {self.i:2d}\"\n",
    "\n",
    "    def index(self):\n",
    "        return self.i\n",
    "    \n",
    "    def destination(self):\n",
    "        return self.dest\n",
    "    \n",
    "    def __reg(self, state):\n",
    "        self.status += [ state ]\n",
    "        self.timing += [ self.rec.env.now ]\n",
    "        self.rec.trace(str(self)+\" \"+state)\n",
    "        \n",
    "    def arrivedAtDeliveryCentre(self):\n",
    "        self.rec.recordParcelArrived(self.i)###################parcel arrived at DC time################\n",
    "        #print(\"Parcel \"+str(self.i)+\" arrived at DC \",int(round(self.rec.env.now)))\n",
    "        self.__reg('arr at delivery centre')\n",
    "        \n",
    "    def outForDelivery(self): \n",
    "        self.__reg('out for delivery')\n",
    "        \n",
    "    def returnFromDelivery(self):\n",
    "        self.__reg('return from delivery')\n",
    "    "
   ]
  },
  {
   "cell_type": "markdown",
   "id": "7485feda",
   "metadata": {},
   "source": [
    "# Class Customer"
   ]
  },
  {
   "cell_type": "markdown",
   "id": "36c4903f",
   "metadata": {},
   "source": [
    "<img src='EventGraph Customer.png' width=500/>"
   ]
  },
  {
   "cell_type": "code",
   "execution_count": 15,
   "id": "81e2076b",
   "metadata": {
    "ExecuteTime": {
     "end_time": "2023-04-23T10:44:19.186164Z",
     "start_time": "2023-04-23T10:44:19.180481Z"
    }
   },
   "outputs": [],
   "source": [
    "class Customer:\n",
    "    \n",
    "    REGISTER = []\n",
    "\n",
    "    def __init__(self, rec, location):\n",
    "        self.rec = rec\n",
    "        self.location = location\n",
    "        self.i = len(Customer.REGISTER)\n",
    "        Customer.REGISTER += [ self ]\n",
    "        self.atHome = True\n",
    "        self.answersDoor = False\n",
    "        self.parcelsReceived = []\n",
    "        rec.env.process(self.process())\n",
    "        \n",
    "    def __str__(self):\n",
    "        return f\"Customer: {self.i:2d} {str(self.location):s}\"\n",
    "    \n",
    "    # factory method ensures that there is only\n",
    "    # one customer per location\n",
    "    def getCustomer(rec, location):\n",
    "        for c in Customer.REGISTER:\n",
    "            if c.location == location:\n",
    "                return c\n",
    "        return Customer(rec, location)\n",
    "    \n",
    "    def leaveHouse(self):\n",
    "        assert(self.atHome and not self.answersDoor)\n",
    "        #self.rec.trace(str(self)+\" leaves house\")\n",
    "        self.atHome = False\n",
    "     \n",
    "    def returnHome(self):\n",
    "        assert(not self.atHome)\n",
    "        #self.rec.trace(str(self)+\" returns home\")\n",
    "        self.atHome = True\n",
    "        \n",
    "    def answerDoor(self):\n",
    "        if self.atHome:\n",
    "            yield self.rec.env.timeout(random.expovariate(1/AVERAGE_TIME_ANSWER_DOOR))\n",
    "            #self.rec.trace(str(self)+\" answers door\")\n",
    "            self.answersDoor = True\n",
    "        else:\n",
    "            yield self.rec.env.timeout(WAIT_TIME_IF_CUSTOMER_DOESNT_ANSWER_DOOR)\n",
    "            #self.rec(str(self)+\" not at home\")\n",
    "            \n",
    "    def acceptParcel(self, parcel):\n",
    "        assert(self.answersDoor)\n",
    "        self.parcelsReceived += [parcel]\n",
    "        #self.rec.trace(str(self)+\" accepts \"+str(parcel))\n",
    "        self.rec.recordCustomerAccepted(parcel.i)#######################parcel accepted time############\n",
    "        #print(\"customer accepted the Parcel \"+str(parcel)+\" at time:\",int(round(self.rec.env.now)))\n",
    "        \n",
    "    def signOff(self):\n",
    "        assert(self.answersDoor)\n",
    "        #self.rec.trace(str(self)+\" signs off\")\n",
    "        self.answersDoor = False\n",
    "        \n",
    "    def process(self):\n",
    "        yield self.rec.env.timeout(nextHour(self.rec.env, 8))\n",
    "        while day(self.rec.env.now)<self.rec.days:\n",
    "            # in a refinement we may use random times\n",
    "            self.leaveHouse()\n",
    "            yield self.rec.env.timeout(nextHour(self.rec.env, 18))\n",
    "            self.returnHome()\n",
    "            yield self.rec.env.timeout(nextHour(self.rec.env, 8))"
   ]
  },
  {
   "cell_type": "markdown",
   "id": "5094ac7a",
   "metadata": {},
   "source": [
    "# Class Driver"
   ]
  },
  {
   "cell_type": "markdown",
   "id": "ad9cf5d9",
   "metadata": {},
   "source": [
    "<img src='EventGraph Driver.png' width=500/>"
   ]
  },
  {
   "cell_type": "code",
   "execution_count": 16,
   "id": "c1f9cba3",
   "metadata": {
    "ExecuteTime": {
     "end_time": "2023-04-23T10:44:19.194589Z",
     "start_time": "2023-04-23T10:44:19.187236Z"
    }
   },
   "outputs": [],
   "source": [
    "class Driver:\n",
    "    \n",
    "    def __init__(self, rec, DC):\n",
    "        self.rec = rec\n",
    "        self.DC = DC\n",
    "        self.location = None\n",
    "        self.parcels = None\n",
    "        self.tour = None\n",
    "        self.rec.env.process(self.process())\n",
    "        \n",
    "    # activity\n",
    "    def __drive(self, target):\n",
    "        assert(self.tour[0] == self.location)\n",
    "        while self.location!=target:\n",
    "            d = dist(self.location, self.tour[1])\n",
    "            yield self.rec.env.timeout(d / AVERAGE_SPEED)\n",
    "            self.location = self.tour[1]\n",
    "            self.tour = self.tour[1:]\n",
    "        assert(self.tour[0] == self.location == target)\n",
    "    \n",
    "    def arriveForWork(self):\n",
    "        self.location = self.DC.W\n",
    "        self.parcels = []\n",
    "        self.returns = []\n",
    "        self.tour = [ self.DC.W ]\n",
    "        self.rec.recordDriverBeginsWork()########################Driver Starts Work Time#####################\n",
    "        \n",
    "    def leaveForDelivery(self, tour, parcels):\n",
    "        self.tour, self.parcels = tour, parcels\n",
    "        self.rec.trace(f\"Driver leaves for delivery \" \\\n",
    "                       f\"of {len(parcels):d} parcels\")\n",
    "        \n",
    "    def process(self):\n",
    "        yield self.rec.env.timeout(nextHour(self.rec.env, 18))\n",
    "        while day(self.rec.env.now)<self.rec.days:\n",
    "            self.arriveForWork()\n",
    "            tour, parcels = self.DC.sendForDelivery()\n",
    "            yield self.rec.env.timeout(PREP_TIME_PER_PARCEL*len(parcels))\n",
    "            self.rec.recordTourLength(pathLength(tour))######################Route Distance#################\n",
    "            self.leaveForDelivery(tour, parcels)\n",
    "            \n",
    "            while len(self.parcels)>0:\n",
    "                # drive to customer\n",
    "                custLocation = self.parcels[0].dest\n",
    "                cust = Customer.getCustomer(self.rec, custLocation)\n",
    "                self.rec.trace(\"Driver drives to \"+str(cust))\n",
    "                yield from self.__drive(custLocation)\n",
    "                self.rec.trace(\"Driver arrived at \"+str(cust))\n",
    "                # call at customer\n",
    "                yield from cust.answerDoor()\n",
    "                \n",
    "                if cust.answersDoor:\n",
    "                    while len(self.parcels)>0 and \\\n",
    "                            custLocation == self.parcels[0].dest:\n",
    "                        cust.acceptParcel(self.parcels[0])\n",
    "                        yield self.rec.env.timeout(random.expovariate(1/10))\n",
    "                        self.parcels = self.parcels[1:]\n",
    "                    cust.signOff()\n",
    "                    yield self.rec.env.timeout(random.expovariate(1/10))\n",
    "                else:\n",
    "                    while len(self.parcels)>0 and  \\\n",
    "                            custLocation == self.parcels[0].dest:\n",
    "                        self.returns += self.parcels[0]\n",
    "                        self.parcels = self.parcels[1:]\n",
    "\n",
    "            # return to delivery centre\n",
    "            self.rec.trace(\"Driver returns to delivery centre\")\n",
    "            yield from self.__drive(self.DC.W)\n",
    "            self.rec.trace(\"Driver arrived at delivery centre\")\n",
    "            \n",
    "            for parcel in self.returns:\n",
    "                self.DC.returnFromDelivery(parcel)\n",
    "                yield self.rec.env.timeout(RETURN_TIME_PER_PARCEL)\n",
    "            yield self.rec.env.timeout(600)\n",
    "            \n",
    "            self.rec.recordDriverEndsWork()##########################Driver Ends Work Time################\n",
    "            yield self.rec.env.timeout(nextHour(self.rec.env, 18))"
   ]
  },
  {
   "cell_type": "markdown",
   "id": "1040e477",
   "metadata": {},
   "source": [
    "# Class Delivery Centre"
   ]
  },
  {
   "cell_type": "markdown",
   "id": "1388e18b",
   "metadata": {},
   "source": [
    "<img src=\"EventGraph Delivery Centre.png\" width=300/>"
   ]
  },
  {
   "cell_type": "code",
   "execution_count": 17,
   "id": "58d2e87e",
   "metadata": {
    "ExecuteTime": {
     "end_time": "2023-04-23T10:44:19.200684Z",
     "start_time": "2023-04-23T10:44:19.195588Z"
    }
   },
   "outputs": [],
   "source": [
    "class DeliveryCentre:\n",
    "    \n",
    "    def __init__(self, rec, M, W):\n",
    "        self.rec = rec\n",
    "        self.M = M\n",
    "        self.W = W\n",
    "        self.limit = 30000\n",
    "        \n",
    "        \n",
    "        self.leftOver = []    # list of parcels\n",
    "        self.parcels = []     # list of parcels scheduled for delivery\n",
    "        self.dest = []        # list of unique customer destinations\n",
    "        self.tour = [W]       # tour planned for delivery\n",
    "        \n",
    "    def __accept(self, parcel):\n",
    "        custLoc = parcel.dest\n",
    "        if custLoc not in self.dest:\n",
    "            S = createLoop(self.M, [self.W] + self.dest + [custLoc])\n",
    "            if pathLength(S)<self.limit:\n",
    "                self.parcels.append(parcel)\n",
    "                self.dest += [custLoc]\n",
    "                self.tour = S\n",
    "            else:\n",
    "                self.leftOver.append(parcel)\n",
    "        else:\n",
    "            self.parcels.append(parcel)\n",
    "        \n",
    "    def acceptParcel(self, parcel):\n",
    "        parcel.arrivedAtDeliveryCentre()\n",
    "        self.__accept(parcel)\n",
    "            \n",
    "    def sendForDelivery(self):\n",
    "        parcels = []\n",
    "        tour = self.tour\n",
    "        addresses = self.dest\n",
    "        \n",
    "        # pick parcels in sequence to be delivered\n",
    "        for i in range(1, len(tour)-1):\n",
    "            dest = tour[i]\n",
    "            for p in self.parcels:\n",
    "                if p.dest == dest:\n",
    "                    parcels += [p]\n",
    "                    p.outForDelivery()\n",
    "         \n",
    "        # arrange the leftover\n",
    "        L = self.leftOver\n",
    "        self.rec.recordLeftover(len(L))#####################LeftOver Parcels##########################\n",
    "        #print(f\"LeftOver {len(L):d} parcels\")\n",
    "        self.tour = [self.W]\n",
    "        self.parcels = []\n",
    "        self.leftOver = []\n",
    "        self.dest = []\n",
    "        for p in L:\n",
    "            self.__accept(p)\n",
    "        if self.rec.plot:\n",
    "            plotMap(self.rec.M, T=addresses, P=tour, w=tour[0], \n",
    "                    text=f\"Day {day(self.rec.env.now):2d}, {pathLength(tour):,d}m\")\n",
    "\n",
    "        return tour, parcels\n",
    "                 \n",
    "    def returnFromDelivery(self, parcel):\n",
    "        parcel.returnFromDelivery()\n",
    "        self.__accept(parcel)"
   ]
  },
  {
   "cell_type": "markdown",
   "id": "f8dc172b",
   "metadata": {},
   "source": [
    "# Simulation"
   ]
  },
  {
   "cell_type": "markdown",
   "id": "24d87bfc",
   "metadata": {},
   "source": [
    "## Parameters from Specification"
   ]
  },
  {
   "cell_type": "markdown",
   "id": "68c84750",
   "metadata": {},
   "source": [
    "The time required for driving is based on the distance between way points at an average speed of 15km/h."
   ]
  },
  {
   "cell_type": "code",
   "execution_count": 18,
   "id": "914c1813",
   "metadata": {
    "ExecuteTime": {
     "end_time": "2023-04-23T10:44:19.203262Z",
     "start_time": "2023-04-23T10:44:19.201604Z"
    }
   },
   "outputs": [],
   "source": [
    "AVERAGE_SPEED = 15/3.6"
   ]
  },
  {
   "cell_type": "markdown",
   "id": "be2c23f9",
   "metadata": {},
   "source": [
    "The **cumulative preparation time** (route planning and \n",
    "sorting of the parcels in the delivery order and \n",
    "packing the cargo-bike) is assumed to be 50 sec per \n",
    "parcel to be delivered."
   ]
  },
  {
   "cell_type": "code",
   "execution_count": 19,
   "id": "bddf98a2",
   "metadata": {
    "ExecuteTime": {
     "end_time": "2023-04-23T10:44:19.205755Z",
     "start_time": "2023-04-23T10:44:19.204319Z"
    }
   },
   "outputs": [],
   "source": [
    "PREP_TIME_PER_PARCEL = 50"
   ]
  },
  {
   "cell_type": "markdown",
   "id": "4a9e228c",
   "metadata": {},
   "source": [
    "**Additional assumption:** The time to **process returned parcels** in the delivery centre is 30 sec per parce. "
   ]
  },
  {
   "cell_type": "code",
   "execution_count": 20,
   "id": "8dac0569",
   "metadata": {
    "ExecuteTime": {
     "end_time": "2023-04-23T10:44:19.208254Z",
     "start_time": "2023-04-23T10:44:19.206680Z"
    }
   },
   "outputs": [],
   "source": [
    "RETURN_TIME_PER_PARCEL = 30"
   ]
  },
  {
   "cell_type": "markdown",
   "id": "1eee375c",
   "metadata": {},
   "source": [
    "The average time to answer the door."
   ]
  },
  {
   "cell_type": "code",
   "execution_count": 21,
   "id": "b7433892",
   "metadata": {
    "ExecuteTime": {
     "end_time": "2023-04-23T10:44:19.210772Z",
     "start_time": "2023-04-23T10:44:19.209172Z"
    }
   },
   "outputs": [],
   "source": [
    "AVERAGE_TIME_ANSWER_DOOR = 40"
   ]
  },
  {
   "cell_type": "code",
   "execution_count": 22,
   "id": "3486f578",
   "metadata": {
    "ExecuteTime": {
     "end_time": "2023-04-23T10:44:19.213200Z",
     "start_time": "2023-04-23T10:44:19.211820Z"
    }
   },
   "outputs": [],
   "source": [
    "WAIT_TIME_IF_CUSTOMER_DOESNT_ANSWER_DOOR = 60"
   ]
  },
  {
   "cell_type": "markdown",
   "id": "3b59ca97",
   "metadata": {},
   "source": [
    "## Generate Input Data"
   ]
  },
  {
   "cell_type": "code",
   "execution_count": 23,
   "id": "986eee44",
   "metadata": {
    "ExecuteTime": {
     "end_time": "2023-04-23T10:44:19.217959Z",
     "start_time": "2023-04-23T10:44:19.214245Z"
    }
   },
   "outputs": [],
   "source": [
    "def generateInputData(D):\n",
    "    R = [ len(d) for d in D ]\n",
    "    N = sum(R)\n",
    "    \n",
    "    DAY_LENGTH = 24*3600    # measured in minutes\n",
    "    DAY_START = 8*3600      # first delivery in the morning\n",
    "    DAY_END = 17*3600     # last delivery during day time\n",
    "\n",
    "    IARR = (DAY_END-DAY_START-2*3600)*len(D) / N  # measured in minutes\n",
    "\n",
    "    x = pd.DataFrame()\n",
    "\n",
    "    x['iarr'] = [None]*N\n",
    "    x['time'] = [None]*N\n",
    "    x['day'] = [None]*N\n",
    "    x['dest'] = [None]*N\n",
    "\n",
    "    current_day = 0\n",
    "    delivered_today = 0\n",
    "    time = DAY_START\n",
    "    last_time = 0\n",
    "\n",
    "    for i in range(N):\n",
    "    \n",
    "        iat = random.expovariate(1.0/IARR)\n",
    "        new_time = time + iat\n",
    "    \n",
    "        if delivered_today == len(D[current_day]):\n",
    "            current_day += 1\n",
    "            delivered_today = 0\n",
    "            new_time = current_day*DAY_LENGTH + DAY_START + iat\n",
    "        else:\n",
    "            new_time = time + iat\n",
    "    \n",
    "        iat = new_time - last_time\n",
    "        last_time = time = new_time\n",
    "    \n",
    "        x.at[i, 'iarr'] = round(iat,1)\n",
    "        x.at[i, 'time'] = round(new_time - current_day*DAY_LENGTH , 1)\n",
    "        x.at[i, 'day'] = current_day\n",
    "        x.at[i, 'dest'] = D[current_day][delivered_today]\n",
    "    \n",
    "        delivered_today += 1\n",
    "    \n",
    "    return x"
   ]
  },
  {
   "cell_type": "code",
   "execution_count": 24,
   "id": "cc82db19",
   "metadata": {
    "ExecuteTime": {
     "end_time": "2023-04-23T10:44:19.220310Z",
     "start_time": "2023-04-23T10:44:19.218960Z"
    }
   },
   "outputs": [],
   "source": [
    "# plt.plot(x.time/60, 'o', ms=3)\n",
    "# plt.vlines(x=np.cumsum(R)-0.5, ymin=7, ymax=24, color='red', lw=0.5)\n",
    "# plt.hlines(y=[8,18], xmin=0, xmax=sum(R))"
   ]
  },
  {
   "cell_type": "markdown",
   "id": "dcf336c9",
   "metadata": {},
   "source": [
    "## Simulation Routine"
   ]
  },
  {
   "cell_type": "code",
   "execution_count": 25,
   "id": "18a0a837",
   "metadata": {
    "ExecuteTime": {
     "end_time": "2023-04-23T10:44:19.224553Z",
     "start_time": "2023-04-23T10:44:19.221138Z"
    }
   },
   "outputs": [],
   "source": [
    "def simulation(M, W, C, D, log=False, plot=False):\n",
    "    \n",
    "    env = simpy.Environment()\n",
    "    rec = Recorder(env, M, W, C, len(D), log=log, plot=plot)\n",
    "\n",
    "    x = generateInputData(D)\n",
    "    \n",
    "    print(f\"Simulating delivery of {len(x):d} parcels \"\n",
    "          f\"over {len(D):d} days to {len(C):d} customers\")\n",
    "\n",
    "    def generatorProcess(env):\n",
    "        \n",
    "        for c in C:\n",
    "            Customer.getCustomer(rec, c)           \n",
    "        DC = DeliveryCentre(rec, M, W)\n",
    "        D = Driver(rec, DC)\n",
    "        \n",
    "        # generate the parcels based on input data x\n",
    "        for i in range(len(x)):\n",
    "            yield env.timeout(x.at[i, 'iarr'])\n",
    "            custLoc = C[x.at[i, 'dest']]\n",
    "            cust = Customer.getCustomer(rec, custLoc)\n",
    "            p = Parcel.getParcel(rec, i, cust)\n",
    "            DC.acceptParcel(p)\n",
    "\n",
    "    env.process(generatorProcess(env))\n",
    "    env.run()\n",
    "    \n",
    "    rec.finish()\n",
    "        \n",
    "    return rec"
   ]
  },
  {
   "cell_type": "markdown",
   "id": "7da0eaf6",
   "metadata": {},
   "source": [
    "## Model Verification"
   ]
  },
  {
   "cell_type": "code",
   "execution_count": 26,
   "id": "f6140416",
   "metadata": {
    "ExecuteTime": {
     "end_time": "2023-04-23T10:44:19.230702Z",
     "start_time": "2023-04-23T10:44:19.228707Z"
    }
   },
   "outputs": [],
   "source": [
    "import pickle\n",
    "with open('data.pickled', 'rb') as f:\n",
    "    M, W, C, D = pickle.load(f)"
   ]
  },
  {
   "cell_type": "code",
   "execution_count": 27,
   "id": "a7daca1f",
   "metadata": {
    "ExecuteTime": {
     "end_time": "2023-04-23T10:44:19.721975Z",
     "start_time": "2023-04-23T10:44:19.231676Z"
    },
    "scrolled": false
   },
   "outputs": [
    {
     "name": "stdout",
     "output_type": "stream",
     "text": [
      "Simulating delivery of 25 parcels over 4 days to 5 customers\n",
      "[ 0] 10:05:02.0 Parcel:  0 arr at delivery centre\n",
      "[ 0] 11:40:21.9 Parcel:  1 arr at delivery centre\n",
      "[ 0] 12:17:02.2 Parcel:  2 arr at delivery centre\n",
      "[ 0] 12:37:10.4 Parcel:  3 arr at delivery centre\n",
      "[ 0] 13:25:17.1 Parcel:  4 arr at delivery centre\n",
      "[ 0] 14:00:10.0 Parcel:  5 arr at delivery centre\n",
      "[ 0] 15:43:05.2 Parcel:  6 arr at delivery centre\n",
      "[ 0] 16:07:22.4 Parcel:  7 arr at delivery centre\n",
      "[ 0] 16:50:52.7 Parcel:  8 arr at delivery centre\n",
      "[ 0] 18:00:00.0 Parcel:  5 out for delivery\n",
      "[ 0] 18:00:00.0 Parcel:  7 out for delivery\n",
      "[ 0] 18:00:00.0 Parcel:  1 out for delivery\n",
      "[ 0] 18:00:00.0 Parcel:  3 out for delivery\n",
      "[ 0] 18:00:00.0 Parcel:  4 out for delivery\n",
      "[ 0] 18:00:00.0 Parcel:  0 out for delivery\n",
      "[ 0] 18:00:00.0 Parcel:  6 out for delivery\n",
      "[ 0] 18:00:00.0 Parcel:  2 out for delivery\n",
      "[ 0] 18:00:00.0 Parcel:  8 out for delivery\n"
     ]
    },
    {
     "data": {
      "image/png": "[encoded data removed]",
      "text/plain": [
       "<Figure size 600x600 with 1 Axes>"
      ]
     },
     "metadata": {},
     "output_type": "display_data"
    },
    {
     "name": "stdout",
     "output_type": "stream",
     "text": [
      "[ 0] 18:07:30.0 Driver leaves for delivery of 9 parcels\n",
      "[ 0] 18:07:30.0 Driver drives to Customer:  4 (6698, 7149)\n",
      "[ 0] 18:23:27.1 Driver arrived at Customer:  4 (6698, 7149)\n",
      "[ 0] 18:24:10.9 Driver drives to Customer:  1 (4421, 6466)\n",
      "[ 0] 18:35:05.9 Driver arrived at Customer:  1 (4421, 6466)\n",
      "[ 0] 18:37:48.4 Driver drives to Customer:  3 (3285, 2769)\n",
      "[ 0] 18:59:16.7 Driver arrived at Customer:  3 (3285, 2769)\n",
      "[ 0] 18:59:53.2 Driver drives to Customer:  0 (4546, 2567)\n",
      "[ 0] 19:07:14.1 Driver arrived at Customer:  0 (4546, 2567)\n",
      "[ 0] 19:08:38.5 Driver drives to Customer:  2 (6818, 3195)\n",
      "[ 0] 19:18:17.4 Driver arrived at Customer:  2 (6818, 3195)\n",
      "[ 0] 19:18:47.3 Driver returns to delivery centre\n",
      "[ 0] 19:28:28.3 Driver arrived at delivery centre\n",
      "[ 1] 08:58:50.3 Parcel:  9 arr at delivery centre\n",
      "[ 1] 11:39:15.5 Parcel: 10 arr at delivery centre\n",
      "[ 1] 12:26:28.2 Parcel: 11 arr at delivery centre\n",
      "[ 1] 12:48:42.10 Parcel: 12 arr at delivery centre\n",
      "[ 1] 14:23:27.3 Parcel: 13 arr at delivery centre\n",
      "[ 1] 18:00:00.0 Parcel:  9 out for delivery\n",
      "[ 1] 18:00:00.0 Parcel: 10 out for delivery\n",
      "[ 1] 18:00:00.0 Parcel: 13 out for delivery\n",
      "[ 1] 18:00:00.0 Parcel: 11 out for delivery\n",
      "[ 1] 18:00:00.0 Parcel: 12 out for delivery\n"
     ]
    },
    {
     "data": {
      "image/png": "[encoded data removed]",
      "text/plain": [
       "<Figure size 600x600 with 1 Axes>"
      ]
     },
     "metadata": {},
     "output_type": "display_data"
    },
    {
     "name": "stdout",
     "output_type": "stream",
     "text": [
      "[ 1] 18:04:10.0 Driver leaves for delivery of 5 parcels\n",
      "[ 1] 18:04:10.0 Driver drives to Customer:  3 (3285, 2769)\n",
      "[ 1] 18:23:34.7 Driver arrived at Customer:  3 (3285, 2769)\n",
      "[ 1] 18:24:24.1 Driver drives to Customer:  0 (4546, 2567)\n",
      "[ 1] 18:31:45.0 Driver arrived at Customer:  0 (4546, 2567)\n",
      "[ 1] 18:34:25.1 Driver returns to delivery centre\n",
      "[ 1] 18:48:36.4 Driver arrived at delivery centre\n",
      "[ 2] 09:04:43.10 Parcel: 14 arr at delivery centre\n",
      "[ 2] 09:24:06.7 Parcel: 15 arr at delivery centre\n",
      "[ 2] 12:05:44.2 Parcel: 16 arr at delivery centre\n",
      "[ 2] 16:38:42.2 Parcel: 17 arr at delivery centre\n",
      "[ 2] 18:00:00.0 Parcel: 14 out for delivery\n",
      "[ 2] 18:00:00.0 Parcel: 17 out for delivery\n",
      "[ 2] 18:00:00.0 Parcel: 15 out for delivery\n",
      "[ 2] 18:00:00.0 Parcel: 16 out for delivery\n"
     ]
    },
    {
     "data": {
      "image/png": "[encoded data removed]",
      "text/plain": [
       "<Figure size 600x600 with 1 Axes>"
      ]
     },
     "metadata": {},
     "output_type": "display_data"
    },
    {
     "name": "stdout",
     "output_type": "stream",
     "text": [
      "[ 2] 18:03:20.0 Driver leaves for delivery of 4 parcels\n",
      "[ 2] 18:03:20.0 Driver drives to Customer:  2 (6818, 3195)\n",
      "[ 2] 18:13:01.0 Driver arrived at Customer:  2 (6818, 3195)\n",
      "[ 2] 18:13:50.6 Driver drives to Customer:  3 (3285, 2769)\n",
      "[ 2] 18:30:22.9 Parcel: 18 arr at delivery centre\n",
      "[ 2] 18:30:50.3 Driver arrived at Customer:  3 (3285, 2769)\n",
      "[ 2] 18:31:15.2 Driver drives to Customer:  4 (6698, 7149)\n",
      "[ 2] 19:03:38.5 Driver arrived at Customer:  4 (6698, 7149)\n",
      "[ 2] 19:05:08.0 Driver returns to delivery centre\n",
      "[ 2] 19:21:05.1 Driver arrived at delivery centre\n",
      "[ 2] 21:06:35.2 Parcel: 19 arr at delivery centre\n",
      "[ 3] 08:24:56.10 Parcel: 20 arr at delivery centre\n",
      "[ 3] 09:52:53.7 Parcel: 21 arr at delivery centre\n",
      "[ 3] 12:26:51.2 Parcel: 22 arr at delivery centre\n",
      "[ 3] 13:44:15.9 Parcel: 23 arr at delivery centre\n",
      "[ 3] 14:27:12.1 Parcel: 24 arr at delivery centre\n",
      "[ 3] 18:00:00.0 Parcel: 18 out for delivery\n",
      "[ 3] 18:00:00.0 Parcel: 19 out for delivery\n",
      "[ 3] 18:00:00.0 Parcel: 22 out for delivery\n",
      "[ 3] 18:00:00.0 Parcel: 20 out for delivery\n",
      "[ 3] 18:00:00.0 Parcel: 21 out for delivery\n",
      "[ 3] 18:00:00.0 Parcel: 23 out for delivery\n",
      "[ 3] 18:00:00.0 Parcel: 24 out for delivery\n"
     ]
    },
    {
     "data": {
      "image/png": "[encoded data removed]",
      "text/plain": [
       "<Figure size 600x600 with 1 Axes>"
      ]
     },
     "metadata": {},
     "output_type": "display_data"
    },
    {
     "name": "stdout",
     "output_type": "stream",
     "text": [
      "[ 3] 18:05:50.0 Driver leaves for delivery of 7 parcels\n",
      "[ 3] 18:05:50.0 Driver drives to Customer:  0 (4546, 2567)\n",
      "[ 3] 18:20:01.3 Driver arrived at Customer:  0 (4546, 2567)\n",
      "[ 3] 18:21:06.9 Driver drives to Customer:  1 (4421, 6466)\n",
      "[ 3] 18:45:00.4 Driver arrived at Customer:  1 (4421, 6466)\n",
      "[ 3] 18:45:40.3 Driver drives to Customer:  4 (6698, 7149)\n",
      "[ 3] 18:56:35.2 Driver arrived at Customer:  4 (6698, 7149)\n",
      "[ 3] 18:57:11.1 Driver returns to delivery centre\n",
      "[ 3] 19:13:08.2 Driver arrived at delivery centre\n"
     ]
    }
   ],
   "source": [
    "random.seed(0)\n",
    "rec = simulation(M, W, C, D, log=True, plot=True)"
   ]
  },
  {
   "cell_type": "markdown",
   "id": "7fd167a8",
   "metadata": {},
   "source": [
    "## Adding Statistics and Visualisation"
   ]
  },
  {
   "cell_type": "code",
   "execution_count": 28,
   "id": "605dc835",
   "metadata": {
    "ExecuteTime": {
     "end_time": "2023-04-23T10:44:19.734169Z",
     "start_time": "2023-04-23T10:44:19.724717Z"
    }
   },
   "outputs": [
    {
     "data": {
      "text/html": [
       "<div>\n",
       "<style scoped>\n",
       "    .dataframe tbody tr th:only-of-type {\n",
       "        vertical-align: middle;\n",
       "    }\n",
       "\n",
       "    .dataframe tbody tr th {\n",
       "        vertical-align: top;\n",
       "    }\n",
       "\n",
       "    .dataframe thead th {\n",
       "        text-align: right;\n",
       "    }\n",
       "</style>\n",
       "<table border=\"1\" class=\"dataframe\">\n",
       "  <thead>\n",
       "    <tr style=\"text-align: right;\">\n",
       "      <th></th>\n",
       "      <th>driver_starts</th>\n",
       "      <th>driver_ends</th>\n",
       "      <th>distance</th>\n",
       "      <th>leftover</th>\n",
       "      <th>time</th>\n",
       "    </tr>\n",
       "  </thead>\n",
       "  <tbody>\n",
       "    <tr>\n",
       "      <th>0</th>\n",
       "      <td>64800</td>\n",
       "      <td>70708</td>\n",
       "      <td>18.755</td>\n",
       "      <td>0</td>\n",
       "      <td>98.466667</td>\n",
       "    </tr>\n",
       "    <tr>\n",
       "      <th>1</th>\n",
       "      <td>151200</td>\n",
       "      <td>154716</td>\n",
       "      <td>10.237</td>\n",
       "      <td>0</td>\n",
       "      <td>58.6</td>\n",
       "    </tr>\n",
       "    <tr>\n",
       "      <th>2</th>\n",
       "      <td>237600</td>\n",
       "      <td>243065</td>\n",
       "      <td>18.755</td>\n",
       "      <td>0</td>\n",
       "      <td>91.083333</td>\n",
       "    </tr>\n",
       "    <tr>\n",
       "      <th>3</th>\n",
       "      <td>324000</td>\n",
       "      <td>328988</td>\n",
       "      <td>16.237</td>\n",
       "      <td>0</td>\n",
       "      <td>83.133333</td>\n",
       "    </tr>\n",
       "  </tbody>\n",
       "</table>\n",
       "</div>"
      ],
      "text/plain": [
       "  driver_starts driver_ends distance leftover       time\n",
       "0         64800       70708   18.755        0  98.466667\n",
       "1        151200      154716   10.237        0       58.6\n",
       "2        237600      243065   18.755        0  91.083333\n",
       "3        324000      328988   16.237        0  83.133333"
      ]
     },
     "execution_count": 28,
     "metadata": {},
     "output_type": "execute_result"
    }
   ],
   "source": [
    "rec.daily"
   ]
  },
  {
   "cell_type": "code",
   "execution_count": 29,
   "id": "f975e186",
   "metadata": {
    "ExecuteTime": {
     "end_time": "2023-04-23T10:44:19.739694Z",
     "start_time": "2023-04-23T10:44:19.735877Z"
    }
   },
   "outputs": [],
   "source": [
    "def makePlot(df_attribute, title, xlabel, ylabel):\n",
    "    fig, ax=plt.subplots(1,1)\n",
    "    ax.xaxis.set_major_locator(mpl.ticker.MaxNLocator(integer=True))\n",
    "    plt.plot(df_attribute, color ='red', marker='o')\n",
    "    plt.title(title)\n",
    "    plt.xlabel(xlabel)\n",
    "    plt.ylabel(ylabel)\n",
    "    ax.grid(True)\n",
    "    plt.show()"
   ]
  },
  {
   "cell_type": "code",
   "execution_count": 30,
   "id": "a306ac27",
   "metadata": {
    "ExecuteTime": {
     "end_time": "2023-04-23T10:44:19.830618Z",
     "start_time": "2023-04-23T10:44:19.741016Z"
    }
   },
   "outputs": [
    {
     "data": {
      "image/png": "[encoded data removed]",
      "text/plain": [
       "<Figure size 640x480 with 1 Axes>"
      ]
     },
     "metadata": {},
     "output_type": "display_data"
    }
   ],
   "source": [
    "# Working time per day for the driver (in mins)\n",
    "makePlot(rec.daily['time'],\n",
    "         'Working Time Per Day for The Driver (in mins)',\n",
    "         'Day', 'Working Time(mins)')"
   ]
  },
  {
   "cell_type": "code",
   "execution_count": 31,
   "id": "78f79812",
   "metadata": {
    "ExecuteTime": {
     "end_time": "2023-04-23T10:44:19.834463Z",
     "start_time": "2023-04-23T10:44:19.831880Z"
    }
   },
   "outputs": [
    {
     "data": {
      "text/plain": [
       "58.6"
      ]
     },
     "execution_count": 31,
     "metadata": {},
     "output_type": "execute_result"
    }
   ],
   "source": [
    "min(rec.daily['time'])"
   ]
  },
  {
   "cell_type": "code",
   "execution_count": 32,
   "id": "ec08be0b",
   "metadata": {
    "ExecuteTime": {
     "end_time": "2023-04-23T10:44:19.837972Z",
     "start_time": "2023-04-23T10:44:19.835518Z"
    }
   },
   "outputs": [
    {
     "data": {
      "text/plain": [
       "98.46666666666667"
      ]
     },
     "execution_count": 32,
     "metadata": {},
     "output_type": "execute_result"
    }
   ],
   "source": [
    "max(rec.daily['time'])"
   ]
  },
  {
   "cell_type": "code",
   "execution_count": 33,
   "id": "805de832",
   "metadata": {
    "ExecuteTime": {
     "end_time": "2023-04-23T10:44:19.842190Z",
     "start_time": "2023-04-23T10:44:19.839239Z"
    }
   },
   "outputs": [
    {
     "data": {
      "text/plain": [
       "82.82083333333333"
      ]
     },
     "execution_count": 33,
     "metadata": {},
     "output_type": "execute_result"
    }
   ],
   "source": [
    "np.mean(rec.daily['time'])"
   ]
  },
  {
   "cell_type": "code",
   "execution_count": 34,
   "id": "738fbe87",
   "metadata": {
    "ExecuteTime": {
     "end_time": "2023-04-23T10:44:19.926540Z",
     "start_time": "2023-04-23T10:44:19.843415Z"
    }
   },
   "outputs": [
    {
     "data": {
      "image/png": "[encoded data removed]",
      "text/plain": [
       "<Figure size 640x480 with 1 Axes>"
      ]
     },
     "metadata": {},
     "output_type": "display_data"
    }
   ],
   "source": [
    "# length of the delivery route per day (in km)\n",
    "makePlot(rec.daily['distance'], \n",
    "         'Length of The Delivery Route Per Day (in km)',\n",
    "         'Day', 'Route Distance (km)')"
   ]
  },
  {
   "cell_type": "code",
   "execution_count": 35,
   "id": "b7b3b8bd",
   "metadata": {
    "ExecuteTime": {
     "end_time": "2023-04-23T10:44:20.004090Z",
     "start_time": "2023-04-23T10:44:19.927844Z"
    }
   },
   "outputs": [
    {
     "data": {
      "image/png": "[encoded data removed]",
      "text/plain": [
       "<Figure size 640x480 with 1 Axes>"
      ]
     },
     "metadata": {},
     "output_type": "display_data"
    }
   ],
   "source": [
    "# Number of leftover parcels for the next day (per day)\n",
    "makePlot(rec.daily['leftover'],\n",
    "         'Number of Leftover Parcels for The Next Day (per day)',\n",
    "         'Day', 'Number of Parcels')"
   ]
  },
  {
   "cell_type": "code",
   "execution_count": 36,
   "id": "481d87b2",
   "metadata": {
    "ExecuteTime": {
     "end_time": "2023-04-23T10:44:20.014428Z",
     "start_time": "2023-04-23T10:44:20.006258Z"
    }
   },
   "outputs": [
    {
     "data": {
      "text/html": [
       "<div>\n",
       "<style scoped>\n",
       "    .dataframe tbody tr th:only-of-type {\n",
       "        vertical-align: middle;\n",
       "    }\n",
       "\n",
       "    .dataframe tbody tr th {\n",
       "        vertical-align: top;\n",
       "    }\n",
       "\n",
       "    .dataframe thead th {\n",
       "        text-align: right;\n",
       "    }\n",
       "</style>\n",
       "<table border=\"1\" class=\"dataframe\">\n",
       "  <thead>\n",
       "    <tr style=\"text-align: right;\">\n",
       "      <th></th>\n",
       "      <th>arrived</th>\n",
       "      <th>accepted</th>\n",
       "      <th>delay</th>\n",
       "    </tr>\n",
       "  </thead>\n",
       "  <tbody>\n",
       "    <tr>\n",
       "      <th>0</th>\n",
       "      <td>0.0</td>\n",
       "      <td>0.0</td>\n",
       "      <td>0.0</td>\n",
       "    </tr>\n",
       "    <tr>\n",
       "      <th>1</th>\n",
       "      <td>0.0</td>\n",
       "      <td>0.0</td>\n",
       "      <td>0.0</td>\n",
       "    </tr>\n",
       "    <tr>\n",
       "      <th>2</th>\n",
       "      <td>0.0</td>\n",
       "      <td>0.0</td>\n",
       "      <td>0.0</td>\n",
       "    </tr>\n",
       "    <tr>\n",
       "      <th>3</th>\n",
       "      <td>0.0</td>\n",
       "      <td>0.0</td>\n",
       "      <td>0.0</td>\n",
       "    </tr>\n",
       "    <tr>\n",
       "      <th>4</th>\n",
       "      <td>0.0</td>\n",
       "      <td>0.0</td>\n",
       "      <td>0.0</td>\n",
       "    </tr>\n",
       "    <tr>\n",
       "      <th>5</th>\n",
       "      <td>0.0</td>\n",
       "      <td>0.0</td>\n",
       "      <td>0.0</td>\n",
       "    </tr>\n",
       "    <tr>\n",
       "      <th>6</th>\n",
       "      <td>0.0</td>\n",
       "      <td>0.0</td>\n",
       "      <td>0.0</td>\n",
       "    </tr>\n",
       "    <tr>\n",
       "      <th>7</th>\n",
       "      <td>0.0</td>\n",
       "      <td>0.0</td>\n",
       "      <td>0.0</td>\n",
       "    </tr>\n",
       "    <tr>\n",
       "      <th>8</th>\n",
       "      <td>0.0</td>\n",
       "      <td>0.0</td>\n",
       "      <td>0.0</td>\n",
       "    </tr>\n",
       "    <tr>\n",
       "      <th>9</th>\n",
       "      <td>1.0</td>\n",
       "      <td>1.0</td>\n",
       "      <td>0.0</td>\n",
       "    </tr>\n",
       "    <tr>\n",
       "      <th>10</th>\n",
       "      <td>1.0</td>\n",
       "      <td>1.0</td>\n",
       "      <td>0.0</td>\n",
       "    </tr>\n",
       "    <tr>\n",
       "      <th>11</th>\n",
       "      <td>1.0</td>\n",
       "      <td>1.0</td>\n",
       "      <td>0.0</td>\n",
       "    </tr>\n",
       "    <tr>\n",
       "      <th>12</th>\n",
       "      <td>1.0</td>\n",
       "      <td>1.0</td>\n",
       "      <td>0.0</td>\n",
       "    </tr>\n",
       "    <tr>\n",
       "      <th>13</th>\n",
       "      <td>1.0</td>\n",
       "      <td>1.0</td>\n",
       "      <td>0.0</td>\n",
       "    </tr>\n",
       "    <tr>\n",
       "      <th>14</th>\n",
       "      <td>2.0</td>\n",
       "      <td>2.0</td>\n",
       "      <td>0.0</td>\n",
       "    </tr>\n",
       "    <tr>\n",
       "      <th>15</th>\n",
       "      <td>2.0</td>\n",
       "      <td>2.0</td>\n",
       "      <td>0.0</td>\n",
       "    </tr>\n",
       "    <tr>\n",
       "      <th>16</th>\n",
       "      <td>2.0</td>\n",
       "      <td>2.0</td>\n",
       "      <td>0.0</td>\n",
       "    </tr>\n",
       "    <tr>\n",
       "      <th>17</th>\n",
       "      <td>2.0</td>\n",
       "      <td>2.0</td>\n",
       "      <td>0.0</td>\n",
       "    </tr>\n",
       "    <tr>\n",
       "      <th>18</th>\n",
       "      <td>2.0</td>\n",
       "      <td>3.0</td>\n",
       "      <td>1.0</td>\n",
       "    </tr>\n",
       "    <tr>\n",
       "      <th>19</th>\n",
       "      <td>2.0</td>\n",
       "      <td>3.0</td>\n",
       "      <td>1.0</td>\n",
       "    </tr>\n",
       "    <tr>\n",
       "      <th>20</th>\n",
       "      <td>3.0</td>\n",
       "      <td>3.0</td>\n",
       "      <td>0.0</td>\n",
       "    </tr>\n",
       "    <tr>\n",
       "      <th>21</th>\n",
       "      <td>3.0</td>\n",
       "      <td>3.0</td>\n",
       "      <td>0.0</td>\n",
       "    </tr>\n",
       "    <tr>\n",
       "      <th>22</th>\n",
       "      <td>3.0</td>\n",
       "      <td>3.0</td>\n",
       "      <td>0.0</td>\n",
       "    </tr>\n",
       "    <tr>\n",
       "      <th>23</th>\n",
       "      <td>3.0</td>\n",
       "      <td>3.0</td>\n",
       "      <td>0.0</td>\n",
       "    </tr>\n",
       "    <tr>\n",
       "      <th>24</th>\n",
       "      <td>3.0</td>\n",
       "      <td>3.0</td>\n",
       "      <td>0.0</td>\n",
       "    </tr>\n",
       "  </tbody>\n",
       "</table>\n",
       "</div>"
      ],
      "text/plain": [
       "    arrived  accepted  delay\n",
       "0       0.0       0.0    0.0\n",
       "1       0.0       0.0    0.0\n",
       "2       0.0       0.0    0.0\n",
       "3       0.0       0.0    0.0\n",
       "4       0.0       0.0    0.0\n",
       "5       0.0       0.0    0.0\n",
       "6       0.0       0.0    0.0\n",
       "7       0.0       0.0    0.0\n",
       "8       0.0       0.0    0.0\n",
       "9       1.0       1.0    0.0\n",
       "10      1.0       1.0    0.0\n",
       "11      1.0       1.0    0.0\n",
       "12      1.0       1.0    0.0\n",
       "13      1.0       1.0    0.0\n",
       "14      2.0       2.0    0.0\n",
       "15      2.0       2.0    0.0\n",
       "16      2.0       2.0    0.0\n",
       "17      2.0       2.0    0.0\n",
       "18      2.0       3.0    1.0\n",
       "19      2.0       3.0    1.0\n",
       "20      3.0       3.0    0.0\n",
       "21      3.0       3.0    0.0\n",
       "22      3.0       3.0    0.0\n",
       "23      3.0       3.0    0.0\n",
       "24      3.0       3.0    0.0"
      ]
     },
     "execution_count": 36,
     "metadata": {},
     "output_type": "execute_result"
    }
   ],
   "source": [
    "rec.perParcel"
   ]
  },
  {
   "cell_type": "code",
   "execution_count": 37,
   "id": "3e81c5c3",
   "metadata": {
    "ExecuteTime": {
     "end_time": "2023-04-23T10:44:20.019227Z",
     "start_time": "2023-04-23T10:44:20.015428Z"
    }
   },
   "outputs": [],
   "source": [
    "rec.perParcel.to_csv('ParcelDelay.csv')"
   ]
  },
  {
   "cell_type": "code",
   "execution_count": 38,
   "id": "b503f1d4",
   "metadata": {
    "ExecuteTime": {
     "end_time": "2023-04-23T10:44:20.108954Z",
     "start_time": "2023-04-23T10:44:20.020462Z"
    }
   },
   "outputs": [
    {
     "data": {
      "image/png": "[encoded data removed]",
      "text/plain": [
       "<Figure size 640x480 with 1 Axes>"
      ]
     },
     "metadata": {},
     "output_type": "display_data"
    }
   ],
   "source": [
    "# Delay time of the parcels (in days)\n",
    "data = rec.perParcel['delay']\n",
    "bins = 6 # fixed bin size\n",
    "fig, ax=plt.subplots(1,1)\n",
    "#i = 0\n",
    "#for day in rec17.perParcel['arrived']:\n",
    "#    if day <= 21:\n",
    "#        i+=1\n",
    "#    else: break\n",
    "#print('There are '+str(i)+' parcels have been delivered in 22 days.')        \n",
    "# The range indicates delay time from 0 day to 3 days\n",
    "plt.hist(rec.perParcel['delay'], bins=bins, range =[0,3])\n",
    "plt.title('Delay Time of The Parcels (in days)')\n",
    "plt.xlabel('Delay Time (bin size = 6)')\n",
    "plt.ylabel('Number of Parcels')\n",
    "for rect in ax.patches:\n",
    "    height = rect.get_height()\n",
    "    ax.annotate(f'{int(height)}', xy=(rect.get_x()+rect.get_width()/2, height), \n",
    "                xytext=(0,2), textcoords='offset points', ha='center', va='bottom') \n",
    "ax.grid(True)\n",
    "plt.show()"
   ]
  },
  {
   "cell_type": "code",
   "execution_count": null,
   "id": "166ded72",
   "metadata": {},
   "outputs": [],
   "source": []
  }
 ],
 "metadata": {
  "kernelspec": {
   "display_name": "Python 3 (ipykernel)",
   "language": "python",
   "name": "python3"
  },
  "language_info": {
   "codemirror_mode": {
    "name": "ipython",
    "version": 3
   },
   "file_extension": ".py",
   "mimetype": "text/x-python",
   "name": "python",
   "nbconvert_exporter": "python",
   "pygments_lexer": "ipython3",
   "version": "3.10.9"
  },
  "toc": {
   "base_numbering": 1,
   "nav_menu": {
    "height": "173.25px",
    "width": "233px"
   },
   "number_sections": true,
   "sideBar": true,
   "skip_h1_title": false,
   "title_cell": "Table of Contents",
   "title_sidebar": "Contents",
   "toc_cell": true,
   "toc_position": {},
   "toc_section_display": true,
   "toc_window_display": false
  }
 },
 "nbformat": 4,
 "nbformat_minor": 5
}
